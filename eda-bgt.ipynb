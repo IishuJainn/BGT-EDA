{
 "cells": [
  {
   "cell_type": "code",
   "execution_count": 1,
   "id": "59cb5b2e",
   "metadata": {
    "_cell_guid": "b1076dfc-b9ad-4769-8c92-a6c4dae69d19",
    "_uuid": "8f2839f25d086af736a60e9eeb907d3b93b6e0e5",
    "execution": {
     "iopub.execute_input": "2023-02-10T19:09:08.903803Z",
     "iopub.status.busy": "2023-02-10T19:09:08.903366Z",
     "iopub.status.idle": "2023-02-10T19:09:08.924324Z",
     "shell.execute_reply": "2023-02-10T19:09:08.923136Z"
    },
    "papermill": {
     "duration": 0.035256,
     "end_time": "2023-02-10T19:09:08.927539",
     "exception": false,
     "start_time": "2023-02-10T19:09:08.892283",
     "status": "completed"
    },
    "tags": []
   },
   "outputs": [
    {
     "name": "stdout",
     "output_type": "stream",
     "text": [
      "/kaggle/input/border-gavaskar-trophy-results/BGTresults.csv\n"
     ]
    }
   ],
   "source": [
    "# This Python 3 environment comes with many helpful analytics libraries installed\n",
    "# It is defined by the kaggle/python Docker image: https://github.com/kaggle/docker-python\n",
    "# For example, here's several helpful packages to load\n",
    "\n",
    "import numpy as np # linear algebra\n",
    "import pandas as pd # data processing, CSV file I/O (e.g. pd.read_csv)\n",
    "\n",
    "# Input data files are available in the read-only \"../input/\" directory\n",
    "# For example, running this (by clicking run or pressing Shift+Enter) will list all files under the input directory\n",
    "\n",
    "import os\n",
    "for dirname, _, filenames in os.walk('/kaggle/input'):\n",
    "    for filename in filenames:\n",
    "        print(os.path.join(dirname, filename))\n",
    "\n",
    "# You can write up to 20GB to the current directory (/kaggle/working/) that gets preserved as output when you create a version using \"Save & Run All\" \n",
    "# You can also write temporary files to /kaggle/temp/, but they won't be saved outside of the current session"
   ]
  },
  {
   "cell_type": "code",
   "execution_count": 2,
   "id": "9482a825",
   "metadata": {
    "execution": {
     "iopub.execute_input": "2023-02-10T19:09:08.946427Z",
     "iopub.status.busy": "2023-02-10T19:09:08.946036Z",
     "iopub.status.idle": "2023-02-10T19:09:08.987480Z",
     "shell.execute_reply": "2023-02-10T19:09:08.986139Z"
    },
    "papermill": {
     "duration": 0.053595,
     "end_time": "2023-02-10T19:09:08.990223",
     "exception": false,
     "start_time": "2023-02-10T19:09:08.936628",
     "status": "completed"
    },
    "tags": []
   },
   "outputs": [
    {
     "data": {
      "text/html": [
       "<div>\n",
       "<style scoped>\n",
       "    .dataframe tbody tr th:only-of-type {\n",
       "        vertical-align: middle;\n",
       "    }\n",
       "\n",
       "    .dataframe tbody tr th {\n",
       "        vertical-align: top;\n",
       "    }\n",
       "\n",
       "    .dataframe thead th {\n",
       "        text-align: right;\n",
       "    }\n",
       "</style>\n",
       "<table border=\"1\" class=\"dataframe\">\n",
       "  <thead>\n",
       "    <tr style=\"text-align: right;\">\n",
       "      <th></th>\n",
       "      <th>Test Series Year</th>\n",
       "      <th>Test Number</th>\n",
       "      <th>Innings</th>\n",
       "      <th>Venue</th>\n",
       "      <th>Host</th>\n",
       "      <th>Highest Scorer</th>\n",
       "      <th>Team</th>\n",
       "      <th>Runs by highest scorer</th>\n",
       "      <th>best bowler</th>\n",
       "      <th>wickets by best bowler</th>\n",
       "      <th>team total</th>\n",
       "      <th>Winner</th>\n",
       "      <th>Win Margin</th>\n",
       "      <th>MOTM</th>\n",
       "      <th>Ind captain</th>\n",
       "      <th>Aus captain</th>\n",
       "      <th>MOTS</th>\n",
       "      <th>Series Win</th>\n",
       "    </tr>\n",
       "  </thead>\n",
       "  <tbody>\n",
       "    <tr>\n",
       "      <th>0</th>\n",
       "      <td>1996-97</td>\n",
       "      <td>1</td>\n",
       "      <td>1</td>\n",
       "      <td>Delhi</td>\n",
       "      <td>India</td>\n",
       "      <td>Michael Slater</td>\n",
       "      <td>Australia</td>\n",
       "      <td>44</td>\n",
       "      <td>Anil Kumble</td>\n",
       "      <td>4.0</td>\n",
       "      <td>182/10</td>\n",
       "      <td>India</td>\n",
       "      <td>7w</td>\n",
       "      <td>Nayan Mongia</td>\n",
       "      <td>Sachin Tendulkar</td>\n",
       "      <td>Mark Taylor</td>\n",
       "      <td>Nayan Mongia</td>\n",
       "      <td>India</td>\n",
       "    </tr>\n",
       "    <tr>\n",
       "      <th>1</th>\n",
       "      <td>1996-97</td>\n",
       "      <td>1</td>\n",
       "      <td>2</td>\n",
       "      <td>Delhi</td>\n",
       "      <td>India</td>\n",
       "      <td>Nayan Mongia</td>\n",
       "      <td>India</td>\n",
       "      <td>152</td>\n",
       "      <td>Paul Reiffel</td>\n",
       "      <td>3.0</td>\n",
       "      <td>361/10</td>\n",
       "      <td>India</td>\n",
       "      <td>7w</td>\n",
       "      <td>Nayan Mongia</td>\n",
       "      <td>Sachin Tendulkar</td>\n",
       "      <td>Mark Taylor</td>\n",
       "      <td>Nayan Mongia</td>\n",
       "      <td>India</td>\n",
       "    </tr>\n",
       "    <tr>\n",
       "      <th>2</th>\n",
       "      <td>1996-97</td>\n",
       "      <td>1</td>\n",
       "      <td>3</td>\n",
       "      <td>Delhi</td>\n",
       "      <td>India</td>\n",
       "      <td>Steve Waugh</td>\n",
       "      <td>Australia</td>\n",
       "      <td>67</td>\n",
       "      <td>Anil Kumble</td>\n",
       "      <td>5.0</td>\n",
       "      <td>234/10</td>\n",
       "      <td>India</td>\n",
       "      <td>7w</td>\n",
       "      <td>Nayan Mongia</td>\n",
       "      <td>Sachin Tendulkar</td>\n",
       "      <td>Mark Taylor</td>\n",
       "      <td>Nayan Mongia</td>\n",
       "      <td>India</td>\n",
       "    </tr>\n",
       "    <tr>\n",
       "      <th>3</th>\n",
       "      <td>1996-97</td>\n",
       "      <td>1</td>\n",
       "      <td>4</td>\n",
       "      <td>Delhi</td>\n",
       "      <td>India</td>\n",
       "      <td>Mohd. Azharuddin</td>\n",
       "      <td>India</td>\n",
       "      <td>21</td>\n",
       "      <td>Paul Reiffel</td>\n",
       "      <td>2.0</td>\n",
       "      <td>56/3</td>\n",
       "      <td>India</td>\n",
       "      <td>7w</td>\n",
       "      <td>Nayan Mongia</td>\n",
       "      <td>Sachin Tendulkar</td>\n",
       "      <td>Mark Taylor</td>\n",
       "      <td>Nayan Mongia</td>\n",
       "      <td>India</td>\n",
       "    </tr>\n",
       "    <tr>\n",
       "      <th>4</th>\n",
       "      <td>1997-98</td>\n",
       "      <td>1</td>\n",
       "      <td>1</td>\n",
       "      <td>Chennai</td>\n",
       "      <td>India</td>\n",
       "      <td>Navjot Sidhu</td>\n",
       "      <td>India</td>\n",
       "      <td>62</td>\n",
       "      <td>Shane Warne</td>\n",
       "      <td>4.0</td>\n",
       "      <td>257/10</td>\n",
       "      <td>India</td>\n",
       "      <td>179r</td>\n",
       "      <td>Sachin Tendulkar</td>\n",
       "      <td>Mohd. Azharuddin</td>\n",
       "      <td>Mark Taylor</td>\n",
       "      <td>Sachin Tendulkar</td>\n",
       "      <td>India</td>\n",
       "    </tr>\n",
       "  </tbody>\n",
       "</table>\n",
       "</div>"
      ],
      "text/plain": [
       "  Test Series Year  Test Number  Innings    Venue   Host    Highest Scorer  \\\n",
       "0          1996-97            1        1    Delhi  India    Michael Slater   \n",
       "1          1996-97            1        2    Delhi  India      Nayan Mongia   \n",
       "2          1996-97            1        3    Delhi  India       Steve Waugh   \n",
       "3          1996-97            1        4    Delhi  India  Mohd. Azharuddin   \n",
       "4          1997-98            1        1  Chennai  India      Navjot Sidhu   \n",
       "\n",
       "        Team  Runs by highest scorer   best bowler  wickets by best bowler  \\\n",
       "0  Australia                      44   Anil Kumble                     4.0   \n",
       "1      India                     152  Paul Reiffel                     3.0   \n",
       "2  Australia                      67   Anil Kumble                     5.0   \n",
       "3      India                      21  Paul Reiffel                     2.0   \n",
       "4      India                      62   Shane Warne                     4.0   \n",
       "\n",
       "  team total Winner Win Margin              MOTM       Ind captain  \\\n",
       "0     182/10  India         7w      Nayan Mongia  Sachin Tendulkar   \n",
       "1     361/10  India         7w      Nayan Mongia  Sachin Tendulkar   \n",
       "2     234/10  India         7w      Nayan Mongia  Sachin Tendulkar   \n",
       "3       56/3  India         7w      Nayan Mongia  Sachin Tendulkar   \n",
       "4     257/10  India       179r  Sachin Tendulkar  Mohd. Azharuddin   \n",
       "\n",
       "   Aus captain              MOTS Series Win  \n",
       "0  Mark Taylor      Nayan Mongia      India  \n",
       "1  Mark Taylor      Nayan Mongia      India  \n",
       "2  Mark Taylor      Nayan Mongia      India  \n",
       "3  Mark Taylor      Nayan Mongia      India  \n",
       "4  Mark Taylor  Sachin Tendulkar      India  "
      ]
     },
     "execution_count": 2,
     "metadata": {},
     "output_type": "execute_result"
    }
   ],
   "source": [
    "df=pd.read_csv(\"/kaggle/input/border-gavaskar-trophy-results/BGTresults.csv\")\n",
    "df.head(5)"
   ]
  },
  {
   "cell_type": "markdown",
   "id": "9d4843cf",
   "metadata": {
    "papermill": {
     "duration": 0.008048,
     "end_time": "2023-02-10T19:09:09.006803",
     "exception": false,
     "start_time": "2023-02-10T19:09:08.998755",
     "status": "completed"
    },
    "tags": []
   },
   "source": [
    "## We can see that the winner are displayed for every inning so we can't use value count directly we need to Group the Data according to Test Series Year and Test Number"
   ]
  },
  {
   "cell_type": "code",
   "execution_count": 3,
   "id": "0aaff871",
   "metadata": {
    "execution": {
     "iopub.execute_input": "2023-02-10T19:09:09.025917Z",
     "iopub.status.busy": "2023-02-10T19:09:09.025521Z",
     "iopub.status.idle": "2023-02-10T19:09:09.054513Z",
     "shell.execute_reply": "2023-02-10T19:09:09.053082Z"
    },
    "papermill": {
     "duration": 0.042158,
     "end_time": "2023-02-10T19:09:09.057831",
     "exception": false,
     "start_time": "2023-02-10T19:09:09.015673",
     "status": "completed"
    },
    "tags": []
   },
   "outputs": [
    {
     "name": "stderr",
     "output_type": "stream",
     "text": [
      "/opt/conda/lib/python3.7/site-packages/ipykernel_launcher.py:1: FutureWarning: Indexing with multiple keys (implicitly converted to a tuple of keys) will be deprecated, use a list instead.\n",
      "  \"\"\"Entry point for launching an IPython kernel.\n"
     ]
    },
    {
     "data": {
      "text/html": [
       "<div>\n",
       "<style scoped>\n",
       "    .dataframe tbody tr th:only-of-type {\n",
       "        vertical-align: middle;\n",
       "    }\n",
       "\n",
       "    .dataframe tbody tr th {\n",
       "        vertical-align: top;\n",
       "    }\n",
       "\n",
       "    .dataframe thead th {\n",
       "        text-align: right;\n",
       "    }\n",
       "</style>\n",
       "<table border=\"1\" class=\"dataframe\">\n",
       "  <thead>\n",
       "    <tr style=\"text-align: right;\">\n",
       "      <th></th>\n",
       "      <th>Test Series Year</th>\n",
       "      <th>Test Number</th>\n",
       "      <th>Winner</th>\n",
       "      <th>Host</th>\n",
       "    </tr>\n",
       "  </thead>\n",
       "  <tbody>\n",
       "    <tr>\n",
       "      <th>0</th>\n",
       "      <td>1996-97</td>\n",
       "      <td>1</td>\n",
       "      <td>India</td>\n",
       "      <td>India</td>\n",
       "    </tr>\n",
       "    <tr>\n",
       "      <th>1</th>\n",
       "      <td>1997-98</td>\n",
       "      <td>1</td>\n",
       "      <td>India</td>\n",
       "      <td>India</td>\n",
       "    </tr>\n",
       "    <tr>\n",
       "      <th>2</th>\n",
       "      <td>1997-98</td>\n",
       "      <td>2</td>\n",
       "      <td>India</td>\n",
       "      <td>India</td>\n",
       "    </tr>\n",
       "    <tr>\n",
       "      <th>3</th>\n",
       "      <td>1997-98</td>\n",
       "      <td>3</td>\n",
       "      <td>Australia</td>\n",
       "      <td>India</td>\n",
       "    </tr>\n",
       "    <tr>\n",
       "      <th>4</th>\n",
       "      <td>1999-00</td>\n",
       "      <td>1</td>\n",
       "      <td>Australia</td>\n",
       "      <td>Australia</td>\n",
       "    </tr>\n",
       "  </tbody>\n",
       "</table>\n",
       "</div>"
      ],
      "text/plain": [
       "  Test Series Year  Test Number     Winner       Host\n",
       "0          1996-97            1      India      India\n",
       "1          1997-98            1      India      India\n",
       "2          1997-98            2      India      India\n",
       "3          1997-98            3  Australia      India\n",
       "4          1999-00            1  Australia  Australia"
      ]
     },
     "execution_count": 3,
     "metadata": {},
     "output_type": "execute_result"
    }
   ],
   "source": [
    "df1=df.groupby([\"Test Series Year\",\"Test Number\"])[\"Winner\",\"Host\"].first()\n",
    "df1=df1.reset_index()\n",
    "df1.head()"
   ]
  },
  {
   "cell_type": "code",
   "execution_count": 4,
   "id": "b415eec8",
   "metadata": {
    "execution": {
     "iopub.execute_input": "2023-02-10T19:09:09.078140Z",
     "iopub.status.busy": "2023-02-10T19:09:09.077525Z",
     "iopub.status.idle": "2023-02-10T19:09:10.223945Z",
     "shell.execute_reply": "2023-02-10T19:09:10.222870Z"
    },
    "papermill": {
     "duration": 1.159331,
     "end_time": "2023-02-10T19:09:10.226547",
     "exception": false,
     "start_time": "2023-02-10T19:09:09.067216",
     "status": "completed"
    },
    "tags": []
   },
   "outputs": [
    {
     "data": {
      "text/plain": [
       "Text(0.5, 0, 'NO. OF MATCHES')"
      ]
     },
     "execution_count": 4,
     "metadata": {},
     "output_type": "execute_result"
    },
    {
     "data": {
      "image/png": "[encoded data removed]",
      "text/plain": [
       "<Figure size 432x288 with 1 Axes>"
      ]
     },
     "metadata": {
      "needs_background": "light"
     },
     "output_type": "display_data"
    }
   ],
   "source": [
    "import matplotlib.pyplot as plt\n",
    "import seaborn as sns\n",
    "df1[\"Winner\"].value_counts().plot(kind=\"barh\")\n",
    "plt.ylabel(\"WINNER\")\n",
    "plt.xlabel(\"NO. OF MATCHES\")"
   ]
  },
  {
   "cell_type": "markdown",
   "id": "6fd5e5ee",
   "metadata": {
    "papermill": {
     "duration": 0.00844,
     "end_time": "2023-02-10T19:09:10.244095",
     "exception": false,
     "start_time": "2023-02-10T19:09:10.235655",
     "status": "completed"
    },
    "tags": []
   },
   "source": [
    "# India has won more matches than Australia"
   ]
  },
  {
   "cell_type": "code",
   "execution_count": 5,
   "id": "6416db34",
   "metadata": {
    "execution": {
     "iopub.execute_input": "2023-02-10T19:09:10.263361Z",
     "iopub.status.busy": "2023-02-10T19:09:10.262941Z",
     "iopub.status.idle": "2023-02-10T19:09:10.622852Z",
     "shell.execute_reply": "2023-02-10T19:09:10.621716Z"
    },
    "papermill": {
     "duration": 0.372503,
     "end_time": "2023-02-10T19:09:10.625352",
     "exception": false,
     "start_time": "2023-02-10T19:09:10.252849",
     "status": "completed"
    },
    "tags": []
   },
   "outputs": [
    {
     "data": {
      "text/plain": [
       "<seaborn.axisgrid.FacetGrid at 0x7fd8faa99090>"
      ]
     },
     "execution_count": 5,
     "metadata": {},
     "output_type": "execute_result"
    },
    {
     "data": {
      "image/png": "[encoded data removed]",
      "text/plain": [
       "<Figure size 440.5x360 with 1 Axes>"
      ]
     },
     "metadata": {
      "needs_background": "light"
     },
     "output_type": "display_data"
    }
   ],
   "source": [
    "sns.catplot(x=\"Host\",hue=\"Winner\",kind=\"count\",data=df1)"
   ]
  },
  {
   "cell_type": "markdown",
   "id": "5e94e868",
   "metadata": {
    "papermill": {
     "duration": 0.00878,
     "end_time": "2023-02-10T19:09:10.644566",
     "exception": false,
     "start_time": "2023-02-10T19:09:10.635786",
     "status": "completed"
    },
    "tags": []
   },
   "source": [
    "# India are dominating at Home while most of the matches at Australia are without Result"
   ]
  },
  {
   "cell_type": "code",
   "execution_count": 6,
   "id": "6c6eaf3c",
   "metadata": {
    "execution": {
     "iopub.execute_input": "2023-02-10T19:09:10.665047Z",
     "iopub.status.busy": "2023-02-10T19:09:10.664403Z",
     "iopub.status.idle": "2023-02-10T19:09:11.063346Z",
     "shell.execute_reply": "2023-02-10T19:09:11.062206Z"
    },
    "papermill": {
     "duration": 0.412109,
     "end_time": "2023-02-10T19:09:11.065855",
     "exception": false,
     "start_time": "2023-02-10T19:09:10.653746",
     "status": "completed"
    },
    "tags": []
   },
   "outputs": [
    {
     "data": {
      "text/plain": [
       "<seaborn.axisgrid.FacetGrid at 0x7fd8faa1b5d0>"
      ]
     },
     "execution_count": 6,
     "metadata": {},
     "output_type": "execute_result"
    },
    {
     "data": {
      "image/png": "[encoded data removed]",
      "text/plain": [
       "<Figure size 440.5x360 with 1 Axes>"
      ]
     },
     "metadata": {
      "needs_background": "light"
     },
     "output_type": "display_data"
    }
   ],
   "source": [
    "sns.catplot(x=\"Test Number\",hue=\"Winner\",kind=\"count\",data=df1)"
   ]
  },
  {
   "cell_type": "markdown",
   "id": "1e8e788f",
   "metadata": {
    "papermill": {
     "duration": 0.009208,
     "end_time": "2023-02-10T19:09:11.084777",
     "exception": false,
     "start_time": "2023-02-10T19:09:11.075569",
     "status": "completed"
    },
    "tags": []
   },
   "source": [
    "# It is seen that Australia mostly takes lead at the First Match but India is ready with a comeback"
   ]
  },
  {
   "cell_type": "code",
   "execution_count": 7,
   "id": "e445e94f",
   "metadata": {
    "execution": {
     "iopub.execute_input": "2023-02-10T19:09:11.106095Z",
     "iopub.status.busy": "2023-02-10T19:09:11.105406Z",
     "iopub.status.idle": "2023-02-10T19:09:11.427018Z",
     "shell.execute_reply": "2023-02-10T19:09:11.425670Z"
    },
    "papermill": {
     "duration": 0.33533,
     "end_time": "2023-02-10T19:09:11.429754",
     "exception": false,
     "start_time": "2023-02-10T19:09:11.094424",
     "status": "completed"
    },
    "tags": []
   },
   "outputs": [
    {
     "data": {
      "text/plain": [
       "<seaborn.axisgrid.FacetGrid at 0x7fd8fa8eed50>"
      ]
     },
     "execution_count": 7,
     "metadata": {},
     "output_type": "execute_result"
    },
    {
     "data": {
      "image/png": "[encoded data removed]",
      "text/plain": [
       "<Figure size 360x360 with 1 Axes>"
      ]
     },
     "metadata": {
      "needs_background": "light"
     },
     "output_type": "display_data"
    }
   ],
   "source": [
    "sns.catplot(x=\"Winner\",y=\"Test Series Year\",kind=\"swarm\",data=df1)"
   ]
  },
  {
   "cell_type": "markdown",
   "id": "ccfbfe3f",
   "metadata": {
    "papermill": {
     "duration": 0.009638,
     "end_time": "2023-02-10T19:09:11.449767",
     "exception": false,
     "start_time": "2023-02-10T19:09:11.440129",
     "status": "completed"
    },
    "tags": []
   },
   "source": [
    "# We can See that in the latest series Australia were Dominating"
   ]
  },
  {
   "cell_type": "code",
   "execution_count": 8,
   "id": "45c3287d",
   "metadata": {
    "execution": {
     "iopub.execute_input": "2023-02-10T19:09:11.471905Z",
     "iopub.status.busy": "2023-02-10T19:09:11.471370Z",
     "iopub.status.idle": "2023-02-10T19:09:11.681226Z",
     "shell.execute_reply": "2023-02-10T19:09:11.680254Z"
    },
    "papermill": {
     "duration": 0.224135,
     "end_time": "2023-02-10T19:09:11.683907",
     "exception": false,
     "start_time": "2023-02-10T19:09:11.459772",
     "status": "completed"
    },
    "tags": []
   },
   "outputs": [
    {
     "data": {
      "text/plain": [
       "Text(0, 0.5, 'Total Innings')"
      ]
     },
     "execution_count": 8,
     "metadata": {},
     "output_type": "execute_result"
    },
    {
     "data": {
      "image/png": "[encoded data removed]",
      "text/plain": [
       "<Figure size 432x288 with 1 Axes>"
      ]
     },
     "metadata": {
      "needs_background": "light"
     },
     "output_type": "display_data"
    }
   ],
   "source": [
    "df.groupby(\"best bowler\")[\"best bowler\"].count().sort_values().tail().plot(kind=\"barh\")\n",
    "plt.ylabel(\"Total Innings\")"
   ]
  },
  {
   "cell_type": "markdown",
   "id": "a8ae6450",
   "metadata": {
    "papermill": {
     "duration": 0.010085,
     "end_time": "2023-02-10T19:09:11.704781",
     "exception": false,
     "start_time": "2023-02-10T19:09:11.694696",
     "status": "completed"
    },
    "tags": []
   },
   "source": [
    "# Spin Dominationg\n",
    "##  It is very interesting that Top 4 out of 5 are spinners and among the 4 spinners 3 are Indians"
   ]
  },
  {
   "cell_type": "code",
   "execution_count": 9,
   "id": "2bb65c0d",
   "metadata": {
    "execution": {
     "iopub.execute_input": "2023-02-10T19:09:11.727798Z",
     "iopub.status.busy": "2023-02-10T19:09:11.727202Z",
     "iopub.status.idle": "2023-02-10T19:09:11.930488Z",
     "shell.execute_reply": "2023-02-10T19:09:11.929445Z"
    },
    "papermill": {
     "duration": 0.217383,
     "end_time": "2023-02-10T19:09:11.932738",
     "exception": false,
     "start_time": "2023-02-10T19:09:11.715355",
     "status": "completed"
    },
    "tags": []
   },
   "outputs": [
    {
     "data": {
      "text/plain": [
       "<AxesSubplot:ylabel='Highest Scorer'>"
      ]
     },
     "execution_count": 9,
     "metadata": {},
     "output_type": "execute_result"
    },
    {
     "data": {
      "image/png": "[encoded data removed]",
      "text/plain": [
       "<Figure size 432x288 with 1 Axes>"
      ]
     },
     "metadata": {
      "needs_background": "light"
     },
     "output_type": "display_data"
    }
   ],
   "source": [
    "df.groupby(\"Highest Scorer\")[\"Highest Scorer\"].count().sort_values().tail().plot(kind=\"barh\")"
   ]
  },
  {
   "cell_type": "markdown",
   "id": "3429d80b",
   "metadata": {
    "papermill": {
     "duration": 0.010369,
     "end_time": "2023-02-10T19:09:11.954036",
     "exception": false,
     "start_time": "2023-02-10T19:09:11.943667",
     "status": "completed"
    },
    "tags": []
   },
   "source": [
    "# Sachin Sir on the top"
   ]
  },
  {
   "cell_type": "code",
   "execution_count": 10,
   "id": "6103a142",
   "metadata": {
    "execution": {
     "iopub.execute_input": "2023-02-10T19:09:11.977879Z",
     "iopub.status.busy": "2023-02-10T19:09:11.977457Z",
     "iopub.status.idle": "2023-02-10T19:09:12.188033Z",
     "shell.execute_reply": "2023-02-10T19:09:12.186687Z"
    },
    "papermill": {
     "duration": 0.225342,
     "end_time": "2023-02-10T19:09:12.190691",
     "exception": false,
     "start_time": "2023-02-10T19:09:11.965349",
     "status": "completed"
    },
    "tags": []
   },
   "outputs": [
    {
     "data": {
      "text/plain": [
       "<AxesSubplot:ylabel='MOTM'>"
      ]
     },
     "execution_count": 10,
     "metadata": {},
     "output_type": "execute_result"
    },
    {
     "data": {
      "image/png": "[encoded data removed]",
      "text/plain": [
       "<Figure size 432x288 with 1 Axes>"
      ]
     },
     "metadata": {
      "needs_background": "light"
     },
     "output_type": "display_data"
    }
   ],
   "source": [
    "df.groupby(\"MOTM\")[\"MOTM\"].count().sort_values().tail().plot(kind=\"barh\")"
   ]
  },
  {
   "cell_type": "markdown",
   "id": "a494f598",
   "metadata": {
    "papermill": {
     "duration": 0.010778,
     "end_time": "2023-02-10T19:09:12.212702",
     "exception": false,
     "start_time": "2023-02-10T19:09:12.201924",
     "status": "completed"
    },
    "tags": []
   },
   "source": [
    "# Most Man of the Matches are taken by Batsman"
   ]
  },
  {
   "cell_type": "code",
   "execution_count": 11,
   "id": "4ac8718d",
   "metadata": {
    "execution": {
     "iopub.execute_input": "2023-02-10T19:09:12.236929Z",
     "iopub.status.busy": "2023-02-10T19:09:12.236303Z",
     "iopub.status.idle": "2023-02-10T19:09:12.434263Z",
     "shell.execute_reply": "2023-02-10T19:09:12.433117Z"
    },
    "papermill": {
     "duration": 0.212872,
     "end_time": "2023-02-10T19:09:12.436662",
     "exception": false,
     "start_time": "2023-02-10T19:09:12.223790",
     "status": "completed"
    },
    "tags": []
   },
   "outputs": [
    {
     "data": {
      "text/plain": [
       "<AxesSubplot:ylabel='MOTS'>"
      ]
     },
     "execution_count": 11,
     "metadata": {},
     "output_type": "execute_result"
    },
    {
     "data": {
      "image/png": "[encoded data removed]",
      "text/plain": [
       "<Figure size 432x288 with 1 Axes>"
      ]
     },
     "metadata": {
      "needs_background": "light"
     },
     "output_type": "display_data"
    }
   ],
   "source": [
    "df.groupby(\"MOTS\")[\"MOTS\"].count().sort_values().tail().plot(kind=\"barh\")"
   ]
  },
  {
   "cell_type": "markdown",
   "id": "073fece4",
   "metadata": {
    "papermill": {
     "duration": 0.011031,
     "end_time": "2023-02-10T19:09:12.459487",
     "exception": false,
     "start_time": "2023-02-10T19:09:12.448456",
     "status": "completed"
    },
    "tags": []
   },
   "source": [
    "# Man of the Series"
   ]
  },
  {
   "cell_type": "code",
   "execution_count": 12,
   "id": "e44c0df1",
   "metadata": {
    "execution": {
     "iopub.execute_input": "2023-02-10T19:09:12.484431Z",
     "iopub.status.busy": "2023-02-10T19:09:12.483759Z",
     "iopub.status.idle": "2023-02-10T19:09:12.504485Z",
     "shell.execute_reply": "2023-02-10T19:09:12.503373Z"
    },
    "papermill": {
     "duration": 0.035944,
     "end_time": "2023-02-10T19:09:12.506806",
     "exception": false,
     "start_time": "2023-02-10T19:09:12.470862",
     "status": "completed"
    },
    "tags": []
   },
   "outputs": [
    {
     "data": {
      "text/html": [
       "<div>\n",
       "<style scoped>\n",
       "    .dataframe tbody tr th:only-of-type {\n",
       "        vertical-align: middle;\n",
       "    }\n",
       "\n",
       "    .dataframe tbody tr th {\n",
       "        vertical-align: top;\n",
       "    }\n",
       "\n",
       "    .dataframe thead th {\n",
       "        text-align: right;\n",
       "    }\n",
       "</style>\n",
       "<table border=\"1\" class=\"dataframe\">\n",
       "  <thead>\n",
       "    <tr style=\"text-align: right;\">\n",
       "      <th></th>\n",
       "      <th>Test Series Year</th>\n",
       "      <th>Test Number</th>\n",
       "      <th>Innings</th>\n",
       "      <th>Venue</th>\n",
       "      <th>Host</th>\n",
       "      <th>Highest Scorer</th>\n",
       "      <th>Team</th>\n",
       "      <th>Runs by highest scorer</th>\n",
       "      <th>best bowler</th>\n",
       "      <th>wickets by best bowler</th>\n",
       "      <th>team total</th>\n",
       "      <th>Winner</th>\n",
       "      <th>Win Margin</th>\n",
       "      <th>MOTM</th>\n",
       "      <th>Ind captain</th>\n",
       "      <th>Aus captain</th>\n",
       "      <th>MOTS</th>\n",
       "      <th>Series Win</th>\n",
       "    </tr>\n",
       "  </thead>\n",
       "  <tbody>\n",
       "    <tr>\n",
       "      <th>0</th>\n",
       "      <td>1996-97</td>\n",
       "      <td>1</td>\n",
       "      <td>1</td>\n",
       "      <td>Delhi</td>\n",
       "      <td>India</td>\n",
       "      <td>Michael Slater</td>\n",
       "      <td>Australia</td>\n",
       "      <td>44</td>\n",
       "      <td>Anil Kumble</td>\n",
       "      <td>4.0</td>\n",
       "      <td>182/10</td>\n",
       "      <td>India</td>\n",
       "      <td>7w</td>\n",
       "      <td>Nayan Mongia</td>\n",
       "      <td>Sachin Tendulkar</td>\n",
       "      <td>Mark Taylor</td>\n",
       "      <td>Nayan Mongia</td>\n",
       "      <td>India</td>\n",
       "    </tr>\n",
       "    <tr>\n",
       "      <th>1</th>\n",
       "      <td>1996-97</td>\n",
       "      <td>1</td>\n",
       "      <td>2</td>\n",
       "      <td>Delhi</td>\n",
       "      <td>India</td>\n",
       "      <td>Nayan Mongia</td>\n",
       "      <td>India</td>\n",
       "      <td>152</td>\n",
       "      <td>Paul Reiffel</td>\n",
       "      <td>3.0</td>\n",
       "      <td>361/10</td>\n",
       "      <td>India</td>\n",
       "      <td>7w</td>\n",
       "      <td>Nayan Mongia</td>\n",
       "      <td>Sachin Tendulkar</td>\n",
       "      <td>Mark Taylor</td>\n",
       "      <td>Nayan Mongia</td>\n",
       "      <td>India</td>\n",
       "    </tr>\n",
       "    <tr>\n",
       "      <th>2</th>\n",
       "      <td>1996-97</td>\n",
       "      <td>1</td>\n",
       "      <td>3</td>\n",
       "      <td>Delhi</td>\n",
       "      <td>India</td>\n",
       "      <td>Steve Waugh</td>\n",
       "      <td>Australia</td>\n",
       "      <td>67</td>\n",
       "      <td>Anil Kumble</td>\n",
       "      <td>5.0</td>\n",
       "      <td>234/10</td>\n",
       "      <td>India</td>\n",
       "      <td>7w</td>\n",
       "      <td>Nayan Mongia</td>\n",
       "      <td>Sachin Tendulkar</td>\n",
       "      <td>Mark Taylor</td>\n",
       "      <td>Nayan Mongia</td>\n",
       "      <td>India</td>\n",
       "    </tr>\n",
       "    <tr>\n",
       "      <th>3</th>\n",
       "      <td>1996-97</td>\n",
       "      <td>1</td>\n",
       "      <td>4</td>\n",
       "      <td>Delhi</td>\n",
       "      <td>India</td>\n",
       "      <td>Mohd. Azharuddin</td>\n",
       "      <td>India</td>\n",
       "      <td>21</td>\n",
       "      <td>Paul Reiffel</td>\n",
       "      <td>2.0</td>\n",
       "      <td>56/3</td>\n",
       "      <td>India</td>\n",
       "      <td>7w</td>\n",
       "      <td>Nayan Mongia</td>\n",
       "      <td>Sachin Tendulkar</td>\n",
       "      <td>Mark Taylor</td>\n",
       "      <td>Nayan Mongia</td>\n",
       "      <td>India</td>\n",
       "    </tr>\n",
       "    <tr>\n",
       "      <th>4</th>\n",
       "      <td>1997-98</td>\n",
       "      <td>1</td>\n",
       "      <td>1</td>\n",
       "      <td>Chennai</td>\n",
       "      <td>India</td>\n",
       "      <td>Navjot Sidhu</td>\n",
       "      <td>India</td>\n",
       "      <td>62</td>\n",
       "      <td>Shane Warne</td>\n",
       "      <td>4.0</td>\n",
       "      <td>257/10</td>\n",
       "      <td>India</td>\n",
       "      <td>179r</td>\n",
       "      <td>Sachin Tendulkar</td>\n",
       "      <td>Mohd. Azharuddin</td>\n",
       "      <td>Mark Taylor</td>\n",
       "      <td>Sachin Tendulkar</td>\n",
       "      <td>India</td>\n",
       "    </tr>\n",
       "  </tbody>\n",
       "</table>\n",
       "</div>"
      ],
      "text/plain": [
       "  Test Series Year  Test Number  Innings    Venue   Host    Highest Scorer  \\\n",
       "0          1996-97            1        1    Delhi  India    Michael Slater   \n",
       "1          1996-97            1        2    Delhi  India      Nayan Mongia   \n",
       "2          1996-97            1        3    Delhi  India       Steve Waugh   \n",
       "3          1996-97            1        4    Delhi  India  Mohd. Azharuddin   \n",
       "4          1997-98            1        1  Chennai  India      Navjot Sidhu   \n",
       "\n",
       "        Team  Runs by highest scorer   best bowler  wickets by best bowler  \\\n",
       "0  Australia                      44   Anil Kumble                     4.0   \n",
       "1      India                     152  Paul Reiffel                     3.0   \n",
       "2  Australia                      67   Anil Kumble                     5.0   \n",
       "3      India                      21  Paul Reiffel                     2.0   \n",
       "4      India                      62   Shane Warne                     4.0   \n",
       "\n",
       "  team total Winner Win Margin              MOTM       Ind captain  \\\n",
       "0     182/10  India         7w      Nayan Mongia  Sachin Tendulkar   \n",
       "1     361/10  India         7w      Nayan Mongia  Sachin Tendulkar   \n",
       "2     234/10  India         7w      Nayan Mongia  Sachin Tendulkar   \n",
       "3       56/3  India         7w      Nayan Mongia  Sachin Tendulkar   \n",
       "4     257/10  India       179r  Sachin Tendulkar  Mohd. Azharuddin   \n",
       "\n",
       "   Aus captain              MOTS Series Win  \n",
       "0  Mark Taylor      Nayan Mongia      India  \n",
       "1  Mark Taylor      Nayan Mongia      India  \n",
       "2  Mark Taylor      Nayan Mongia      India  \n",
       "3  Mark Taylor      Nayan Mongia      India  \n",
       "4  Mark Taylor  Sachin Tendulkar      India  "
      ]
     },
     "execution_count": 12,
     "metadata": {},
     "output_type": "execute_result"
    }
   ],
   "source": [
    "df.head()"
   ]
  },
  {
   "cell_type": "code",
   "execution_count": 13,
   "id": "84d77126",
   "metadata": {
    "execution": {
     "iopub.execute_input": "2023-02-10T19:09:12.532765Z",
     "iopub.status.busy": "2023-02-10T19:09:12.532134Z",
     "iopub.status.idle": "2023-02-10T19:09:12.552619Z",
     "shell.execute_reply": "2023-02-10T19:09:12.550172Z"
    },
    "papermill": {
     "duration": 0.037125,
     "end_time": "2023-02-10T19:09:12.555966",
     "exception": false,
     "start_time": "2023-02-10T19:09:12.518841",
     "status": "completed"
    },
    "tags": []
   },
   "outputs": [
    {
     "name": "stderr",
     "output_type": "stream",
     "text": [
      "/opt/conda/lib/python3.7/site-packages/ipykernel_launcher.py:1: FutureWarning: Indexing with multiple keys (implicitly converted to a tuple of keys) will be deprecated, use a list instead.\n",
      "  \"\"\"Entry point for launching an IPython kernel.\n"
     ]
    },
    {
     "data": {
      "text/html": [
       "<div>\n",
       "<style scoped>\n",
       "    .dataframe tbody tr th:only-of-type {\n",
       "        vertical-align: middle;\n",
       "    }\n",
       "\n",
       "    .dataframe tbody tr th {\n",
       "        vertical-align: top;\n",
       "    }\n",
       "\n",
       "    .dataframe thead th {\n",
       "        text-align: right;\n",
       "    }\n",
       "</style>\n",
       "<table border=\"1\" class=\"dataframe\">\n",
       "  <thead>\n",
       "    <tr style=\"text-align: right;\">\n",
       "      <th></th>\n",
       "      <th>Test Series Year</th>\n",
       "      <th>Test Number</th>\n",
       "      <th>Winner</th>\n",
       "      <th>Ind captain</th>\n",
       "      <th>Aus captain</th>\n",
       "    </tr>\n",
       "  </thead>\n",
       "  <tbody>\n",
       "    <tr>\n",
       "      <th>0</th>\n",
       "      <td>1996-97</td>\n",
       "      <td>1</td>\n",
       "      <td>India</td>\n",
       "      <td>Sachin Tendulkar</td>\n",
       "      <td>Mark Taylor</td>\n",
       "    </tr>\n",
       "    <tr>\n",
       "      <th>1</th>\n",
       "      <td>1997-98</td>\n",
       "      <td>1</td>\n",
       "      <td>India</td>\n",
       "      <td>Mohd. Azharuddin</td>\n",
       "      <td>Mark Taylor</td>\n",
       "    </tr>\n",
       "    <tr>\n",
       "      <th>2</th>\n",
       "      <td>1997-98</td>\n",
       "      <td>2</td>\n",
       "      <td>India</td>\n",
       "      <td>Mohd. Azharuddin</td>\n",
       "      <td>Mark Taylor</td>\n",
       "    </tr>\n",
       "    <tr>\n",
       "      <th>3</th>\n",
       "      <td>1997-98</td>\n",
       "      <td>3</td>\n",
       "      <td>Australia</td>\n",
       "      <td>Mohd. Azharuddin</td>\n",
       "      <td>Mark Taylor</td>\n",
       "    </tr>\n",
       "    <tr>\n",
       "      <th>4</th>\n",
       "      <td>1999-00</td>\n",
       "      <td>1</td>\n",
       "      <td>Australia</td>\n",
       "      <td>Sachin Tendulkar</td>\n",
       "      <td>Steve Waugh</td>\n",
       "    </tr>\n",
       "  </tbody>\n",
       "</table>\n",
       "</div>"
      ],
      "text/plain": [
       "  Test Series Year  Test Number     Winner       Ind captain  Aus captain\n",
       "0          1996-97            1      India  Sachin Tendulkar  Mark Taylor\n",
       "1          1997-98            1      India  Mohd. Azharuddin  Mark Taylor\n",
       "2          1997-98            2      India  Mohd. Azharuddin  Mark Taylor\n",
       "3          1997-98            3  Australia  Mohd. Azharuddin  Mark Taylor\n",
       "4          1999-00            1  Australia  Sachin Tendulkar  Steve Waugh"
      ]
     },
     "execution_count": 13,
     "metadata": {},
     "output_type": "execute_result"
    }
   ],
   "source": [
    "df2=df.groupby([\"Test Series Year\",\"Test Number\"])[\"Winner\",\"Ind captain\",\"Aus captain\"].first()\n",
    "df2=df2.reset_index()\n",
    "df2.head()"
   ]
  },
  {
   "cell_type": "code",
   "execution_count": 14,
   "id": "f6df5c30",
   "metadata": {
    "execution": {
     "iopub.execute_input": "2023-02-10T19:09:12.586221Z",
     "iopub.status.busy": "2023-02-10T19:09:12.585187Z",
     "iopub.status.idle": "2023-02-10T19:09:12.765047Z",
     "shell.execute_reply": "2023-02-10T19:09:12.763109Z"
    },
    "papermill": {
     "duration": 0.198698,
     "end_time": "2023-02-10T19:09:12.769789",
     "exception": false,
     "start_time": "2023-02-10T19:09:12.571091",
     "status": "completed"
    },
    "tags": []
   },
   "outputs": [
    {
     "data": {
      "text/plain": [
       "<AxesSubplot:ylabel='Ind captain'>"
      ]
     },
     "execution_count": 14,
     "metadata": {},
     "output_type": "execute_result"
    },
    {
     "data": {
      "image/png": "[encoded data removed]",
      "text/plain": [
       "<Figure size 432x288 with 1 Axes>"
      ]
     },
     "metadata": {},
     "output_type": "display_data"
    }
   ],
   "source": [
    "ind_W=df2[df2[\"Winner\"]==\"India\"]\n",
    "ind_W.groupby(\"Ind captain\")[\"Ind captain\"].count().sort_values(ascending=False).plot(kind=\"pie\")"
   ]
  },
  {
   "cell_type": "markdown",
   "id": "3967abf5",
   "metadata": {
    "papermill": {
     "duration": 0.025918,
     "end_time": "2023-02-10T19:09:12.827869",
     "exception": false,
     "start_time": "2023-02-10T19:09:12.801951",
     "status": "completed"
    },
    "tags": []
   },
   "source": [
    "# India won most of their matches under Dhoni's captaincy"
   ]
  },
  {
   "cell_type": "code",
   "execution_count": 15,
   "id": "5122da55",
   "metadata": {
    "execution": {
     "iopub.execute_input": "2023-02-10T19:09:12.855353Z",
     "iopub.status.busy": "2023-02-10T19:09:12.854597Z",
     "iopub.status.idle": "2023-02-10T19:09:12.992617Z",
     "shell.execute_reply": "2023-02-10T19:09:12.991081Z"
    },
    "papermill": {
     "duration": 0.156187,
     "end_time": "2023-02-10T19:09:12.996708",
     "exception": false,
     "start_time": "2023-02-10T19:09:12.840521",
     "status": "completed"
    },
    "tags": []
   },
   "outputs": [
    {
     "data": {
      "text/plain": [
       "<AxesSubplot:ylabel='Aus captain'>"
      ]
     },
     "execution_count": 15,
     "metadata": {},
     "output_type": "execute_result"
    },
    {
     "data": {
      "image/png": "[encoded data removed]",
      "text/plain": [
       "<Figure size 432x288 with 1 Axes>"
      ]
     },
     "metadata": {},
     "output_type": "display_data"
    }
   ],
   "source": [
    "aus_W=df2[df2[\"Winner\"]==\"Australia\"]\n",
    "aus_W.groupby(\"Aus captain\")[\"Aus captain\"].count().sort_values(ascending=False).plot(kind=\"pie\")"
   ]
  },
  {
   "cell_type": "markdown",
   "id": "7716c9cd",
   "metadata": {
    "papermill": {
     "duration": 0.029802,
     "end_time": "2023-02-10T19:09:13.059224",
     "exception": false,
     "start_time": "2023-02-10T19:09:13.029422",
     "status": "completed"
    },
    "tags": []
   },
   "source": [
    "# Australia won most of their matches under Michael Clarke and Steve Waugh captaincy"
   ]
  },
  {
   "cell_type": "code",
   "execution_count": 16,
   "id": "2434a7d6",
   "metadata": {
    "execution": {
     "iopub.execute_input": "2023-02-10T19:09:13.087280Z",
     "iopub.status.busy": "2023-02-10T19:09:13.086575Z",
     "iopub.status.idle": "2023-02-10T19:09:13.092716Z",
     "shell.execute_reply": "2023-02-10T19:09:13.091972Z"
    },
    "papermill": {
     "duration": 0.022594,
     "end_time": "2023-02-10T19:09:13.094831",
     "exception": false,
     "start_time": "2023-02-10T19:09:13.072237",
     "status": "completed"
    },
    "tags": []
   },
   "outputs": [],
   "source": [
    "# Calculating Score for every inning\n",
    "Runs=[]\n",
    "Wics=[]\n",
    "run_wic=df['team total'].str.split(\"/\").tolist()\n",
    "for runs,wics in run_wic:\n",
    "    Runs.append(runs)\n",
    "    Wics.append(wics)"
   ]
  },
  {
   "cell_type": "code",
   "execution_count": 17,
   "id": "e9afb04d",
   "metadata": {
    "execution": {
     "iopub.execute_input": "2023-02-10T19:09:13.123088Z",
     "iopub.status.busy": "2023-02-10T19:09:13.122351Z",
     "iopub.status.idle": "2023-02-10T19:09:13.149353Z",
     "shell.execute_reply": "2023-02-10T19:09:13.148168Z"
    },
    "papermill": {
     "duration": 0.04423,
     "end_time": "2023-02-10T19:09:13.152162",
     "exception": false,
     "start_time": "2023-02-10T19:09:13.107932",
     "status": "completed"
    },
    "tags": []
   },
   "outputs": [
    {
     "data": {
      "text/html": [
       "<div>\n",
       "<style scoped>\n",
       "    .dataframe tbody tr th:only-of-type {\n",
       "        vertical-align: middle;\n",
       "    }\n",
       "\n",
       "    .dataframe tbody tr th {\n",
       "        vertical-align: top;\n",
       "    }\n",
       "\n",
       "    .dataframe thead th {\n",
       "        text-align: right;\n",
       "    }\n",
       "</style>\n",
       "<table border=\"1\" class=\"dataframe\">\n",
       "  <thead>\n",
       "    <tr style=\"text-align: right;\">\n",
       "      <th></th>\n",
       "      <th>Test Series Year</th>\n",
       "      <th>Test Number</th>\n",
       "      <th>Innings</th>\n",
       "      <th>Venue</th>\n",
       "      <th>Host</th>\n",
       "      <th>Highest Scorer</th>\n",
       "      <th>Team</th>\n",
       "      <th>Runs by highest scorer</th>\n",
       "      <th>best bowler</th>\n",
       "      <th>wickets by best bowler</th>\n",
       "      <th>team total</th>\n",
       "      <th>Winner</th>\n",
       "      <th>Win Margin</th>\n",
       "      <th>MOTM</th>\n",
       "      <th>Ind captain</th>\n",
       "      <th>Aus captain</th>\n",
       "      <th>MOTS</th>\n",
       "      <th>Series Win</th>\n",
       "      <th>RUNS</th>\n",
       "      <th>WICKETS</th>\n",
       "    </tr>\n",
       "  </thead>\n",
       "  <tbody>\n",
       "    <tr>\n",
       "      <th>0</th>\n",
       "      <td>1996-97</td>\n",
       "      <td>1</td>\n",
       "      <td>1</td>\n",
       "      <td>Delhi</td>\n",
       "      <td>India</td>\n",
       "      <td>Michael Slater</td>\n",
       "      <td>Australia</td>\n",
       "      <td>44</td>\n",
       "      <td>Anil Kumble</td>\n",
       "      <td>4.0</td>\n",
       "      <td>182/10</td>\n",
       "      <td>India</td>\n",
       "      <td>7w</td>\n",
       "      <td>Nayan Mongia</td>\n",
       "      <td>Sachin Tendulkar</td>\n",
       "      <td>Mark Taylor</td>\n",
       "      <td>Nayan Mongia</td>\n",
       "      <td>India</td>\n",
       "      <td>182</td>\n",
       "      <td>10</td>\n",
       "    </tr>\n",
       "    <tr>\n",
       "      <th>1</th>\n",
       "      <td>1996-97</td>\n",
       "      <td>1</td>\n",
       "      <td>2</td>\n",
       "      <td>Delhi</td>\n",
       "      <td>India</td>\n",
       "      <td>Nayan Mongia</td>\n",
       "      <td>India</td>\n",
       "      <td>152</td>\n",
       "      <td>Paul Reiffel</td>\n",
       "      <td>3.0</td>\n",
       "      <td>361/10</td>\n",
       "      <td>India</td>\n",
       "      <td>7w</td>\n",
       "      <td>Nayan Mongia</td>\n",
       "      <td>Sachin Tendulkar</td>\n",
       "      <td>Mark Taylor</td>\n",
       "      <td>Nayan Mongia</td>\n",
       "      <td>India</td>\n",
       "      <td>361</td>\n",
       "      <td>10</td>\n",
       "    </tr>\n",
       "    <tr>\n",
       "      <th>2</th>\n",
       "      <td>1996-97</td>\n",
       "      <td>1</td>\n",
       "      <td>3</td>\n",
       "      <td>Delhi</td>\n",
       "      <td>India</td>\n",
       "      <td>Steve Waugh</td>\n",
       "      <td>Australia</td>\n",
       "      <td>67</td>\n",
       "      <td>Anil Kumble</td>\n",
       "      <td>5.0</td>\n",
       "      <td>234/10</td>\n",
       "      <td>India</td>\n",
       "      <td>7w</td>\n",
       "      <td>Nayan Mongia</td>\n",
       "      <td>Sachin Tendulkar</td>\n",
       "      <td>Mark Taylor</td>\n",
       "      <td>Nayan Mongia</td>\n",
       "      <td>India</td>\n",
       "      <td>234</td>\n",
       "      <td>10</td>\n",
       "    </tr>\n",
       "    <tr>\n",
       "      <th>3</th>\n",
       "      <td>1996-97</td>\n",
       "      <td>1</td>\n",
       "      <td>4</td>\n",
       "      <td>Delhi</td>\n",
       "      <td>India</td>\n",
       "      <td>Mohd. Azharuddin</td>\n",
       "      <td>India</td>\n",
       "      <td>21</td>\n",
       "      <td>Paul Reiffel</td>\n",
       "      <td>2.0</td>\n",
       "      <td>56/3</td>\n",
       "      <td>India</td>\n",
       "      <td>7w</td>\n",
       "      <td>Nayan Mongia</td>\n",
       "      <td>Sachin Tendulkar</td>\n",
       "      <td>Mark Taylor</td>\n",
       "      <td>Nayan Mongia</td>\n",
       "      <td>India</td>\n",
       "      <td>56</td>\n",
       "      <td>3</td>\n",
       "    </tr>\n",
       "    <tr>\n",
       "      <th>4</th>\n",
       "      <td>1997-98</td>\n",
       "      <td>1</td>\n",
       "      <td>1</td>\n",
       "      <td>Chennai</td>\n",
       "      <td>India</td>\n",
       "      <td>Navjot Sidhu</td>\n",
       "      <td>India</td>\n",
       "      <td>62</td>\n",
       "      <td>Shane Warne</td>\n",
       "      <td>4.0</td>\n",
       "      <td>257/10</td>\n",
       "      <td>India</td>\n",
       "      <td>179r</td>\n",
       "      <td>Sachin Tendulkar</td>\n",
       "      <td>Mohd. Azharuddin</td>\n",
       "      <td>Mark Taylor</td>\n",
       "      <td>Sachin Tendulkar</td>\n",
       "      <td>India</td>\n",
       "      <td>257</td>\n",
       "      <td>10</td>\n",
       "    </tr>\n",
       "  </tbody>\n",
       "</table>\n",
       "</div>"
      ],
      "text/plain": [
       "  Test Series Year  Test Number  Innings    Venue   Host    Highest Scorer  \\\n",
       "0          1996-97            1        1    Delhi  India    Michael Slater   \n",
       "1          1996-97            1        2    Delhi  India      Nayan Mongia   \n",
       "2          1996-97            1        3    Delhi  India       Steve Waugh   \n",
       "3          1996-97            1        4    Delhi  India  Mohd. Azharuddin   \n",
       "4          1997-98            1        1  Chennai  India      Navjot Sidhu   \n",
       "\n",
       "        Team  Runs by highest scorer   best bowler  wickets by best bowler  \\\n",
       "0  Australia                      44   Anil Kumble                     4.0   \n",
       "1      India                     152  Paul Reiffel                     3.0   \n",
       "2  Australia                      67   Anil Kumble                     5.0   \n",
       "3      India                      21  Paul Reiffel                     2.0   \n",
       "4      India                      62   Shane Warne                     4.0   \n",
       "\n",
       "  team total Winner Win Margin              MOTM       Ind captain  \\\n",
       "0     182/10  India         7w      Nayan Mongia  Sachin Tendulkar   \n",
       "1     361/10  India         7w      Nayan Mongia  Sachin Tendulkar   \n",
       "2     234/10  India         7w      Nayan Mongia  Sachin Tendulkar   \n",
       "3       56/3  India         7w      Nayan Mongia  Sachin Tendulkar   \n",
       "4     257/10  India       179r  Sachin Tendulkar  Mohd. Azharuddin   \n",
       "\n",
       "   Aus captain              MOTS Series Win  RUNS  WICKETS  \n",
       "0  Mark Taylor      Nayan Mongia      India   182       10  \n",
       "1  Mark Taylor      Nayan Mongia      India   361       10  \n",
       "2  Mark Taylor      Nayan Mongia      India   234       10  \n",
       "3  Mark Taylor      Nayan Mongia      India    56        3  \n",
       "4  Mark Taylor  Sachin Tendulkar      India   257       10  "
      ]
     },
     "execution_count": 17,
     "metadata": {},
     "output_type": "execute_result"
    }
   ],
   "source": [
    "#Adding runs and Wickets to DataFrame\n",
    "df[\"RUNS\"]=Runs\n",
    "df[\"WICKETS\"]=Wics\n",
    "df.drop(\"team total\",axis=1)\n",
    "df[\"RUNS\"]=df[\"RUNS\"].astype('int32')\n",
    "df[\"WICKETS\"]=df[\"WICKETS\"].astype('int32')\n",
    "df.head()"
   ]
  },
  {
   "cell_type": "code",
   "execution_count": 18,
   "id": "cd49c8f4",
   "metadata": {
    "execution": {
     "iopub.execute_input": "2023-02-10T19:09:13.180635Z",
     "iopub.status.busy": "2023-02-10T19:09:13.180220Z",
     "iopub.status.idle": "2023-02-10T19:09:13.191142Z",
     "shell.execute_reply": "2023-02-10T19:09:13.189830Z"
    },
    "papermill": {
     "duration": 0.02795,
     "end_time": "2023-02-10T19:09:13.193557",
     "exception": false,
     "start_time": "2023-02-10T19:09:13.165607",
     "status": "completed"
    },
    "tags": []
   },
   "outputs": [
    {
     "data": {
      "text/plain": [
       "Team\n",
       "Australia    30296\n",
       "India        29114\n",
       "Name: RUNS, dtype: int32"
      ]
     },
     "execution_count": 18,
     "metadata": {},
     "output_type": "execute_result"
    }
   ],
   "source": [
    "df.groupby(\"Team\")[\"RUNS\"].sum()"
   ]
  },
  {
   "cell_type": "markdown",
   "id": "e8f04127",
   "metadata": {
    "papermill": {
     "duration": 0.012875,
     "end_time": "2023-02-10T19:09:13.219720",
     "exception": false,
     "start_time": "2023-02-10T19:09:13.206845",
     "status": "completed"
    },
    "tags": []
   },
   "source": [
    "# Almost the same runs"
   ]
  },
  {
   "cell_type": "code",
   "execution_count": 19,
   "id": "e5ae3953",
   "metadata": {
    "execution": {
     "iopub.execute_input": "2023-02-10T19:09:13.247789Z",
     "iopub.status.busy": "2023-02-10T19:09:13.247383Z",
     "iopub.status.idle": "2023-02-10T19:09:13.256410Z",
     "shell.execute_reply": "2023-02-10T19:09:13.255431Z"
    },
    "papermill": {
     "duration": 0.025707,
     "end_time": "2023-02-10T19:09:13.258546",
     "exception": false,
     "start_time": "2023-02-10T19:09:13.232839",
     "status": "completed"
    },
    "tags": []
   },
   "outputs": [
    {
     "data": {
      "text/plain": [
       "Team\n",
       "Australia    864\n",
       "India        852\n",
       "Name: WICKETS, dtype: int32"
      ]
     },
     "execution_count": 19,
     "metadata": {},
     "output_type": "execute_result"
    }
   ],
   "source": [
    "df.groupby(\"Team\")[\"WICKETS\"].sum()"
   ]
  },
  {
   "cell_type": "markdown",
   "id": "4f1475a9",
   "metadata": {
    "papermill": {
     "duration": 0.012858,
     "end_time": "2023-02-10T19:09:13.284600",
     "exception": false,
     "start_time": "2023-02-10T19:09:13.271742",
     "status": "completed"
    },
    "tags": []
   },
   "source": [
    "# The Wickets in Australia's column are taken by India and in India's columns are taken by Australia and they are almost same"
   ]
  },
  {
   "cell_type": "code",
   "execution_count": 20,
   "id": "88b93f05",
   "metadata": {
    "execution": {
     "iopub.execute_input": "2023-02-10T19:09:13.313547Z",
     "iopub.status.busy": "2023-02-10T19:09:13.312453Z",
     "iopub.status.idle": "2023-02-10T19:09:13.540373Z",
     "shell.execute_reply": "2023-02-10T19:09:13.539551Z"
    },
    "papermill": {
     "duration": 0.244721,
     "end_time": "2023-02-10T19:09:13.542648",
     "exception": false,
     "start_time": "2023-02-10T19:09:13.297927",
     "status": "completed"
    },
    "tags": []
   },
   "outputs": [
    {
     "data": {
      "text/plain": [
       "Text(0.5, 0, 'Total Runs')"
      ]
     },
     "execution_count": 20,
     "metadata": {},
     "output_type": "execute_result"
    },
    {
     "data": {
      "image/png": "[encoded data removed]",
      "text/plain": [
       "<Figure size 432x288 with 1 Axes>"
      ]
     },
     "metadata": {
      "needs_background": "light"
     },
     "output_type": "display_data"
    }
   ],
   "source": [
    "df.groupby([\"Host\",\"Venue\"])[\"RUNS\"].sum().sort_values().plot(kind=\"barh\")\n",
    "plt.xlabel(\"Total Runs\")"
   ]
  },
  {
   "cell_type": "markdown",
   "id": "1125527f",
   "metadata": {
    "papermill": {
     "duration": 0.013356,
     "end_time": "2023-02-10T19:09:13.569917",
     "exception": false,
     "start_time": "2023-02-10T19:09:13.556561",
     "status": "completed"
    },
    "tags": []
   },
   "source": [
    "# Australian Pitches are more Scorable"
   ]
  },
  {
   "cell_type": "code",
   "execution_count": 21,
   "id": "7d003f36",
   "metadata": {
    "execution": {
     "iopub.execute_input": "2023-02-10T19:09:13.601201Z",
     "iopub.status.busy": "2023-02-10T19:09:13.600436Z",
     "iopub.status.idle": "2023-02-10T19:09:13.814952Z",
     "shell.execute_reply": "2023-02-10T19:09:13.814150Z"
    },
    "papermill": {
     "duration": 0.233447,
     "end_time": "2023-02-10T19:09:13.817373",
     "exception": false,
     "start_time": "2023-02-10T19:09:13.583926",
     "status": "completed"
    },
    "tags": []
   },
   "outputs": [
    {
     "data": {
      "text/plain": [
       "Text(0.5, 0, 'Total wickets')"
      ]
     },
     "execution_count": 21,
     "metadata": {},
     "output_type": "execute_result"
    },
    {
     "data": {
      "image/png": "[encoded data removed]",
      "text/plain": [
       "<Figure size 432x288 with 1 Axes>"
      ]
     },
     "metadata": {
      "needs_background": "light"
     },
     "output_type": "display_data"
    }
   ],
   "source": [
    "df.groupby([\"Host\",\"Venue\"])[\"WICKETS\"].sum().sort_values().plot(kind=\"barh\")\n",
    "plt.xlabel(\"Total wickets\")"
   ]
  },
  {
   "cell_type": "markdown",
   "id": "90a89e51",
   "metadata": {
    "papermill": {
     "duration": 0.013704,
     "end_time": "2023-02-10T19:09:13.845357",
     "exception": false,
     "start_time": "2023-02-10T19:09:13.831653",
     "status": "completed"
    },
    "tags": []
   },
   "source": [
    "# AUSTRALIA TOO HAVE BOWLING PITCHES"
   ]
  },
  {
   "cell_type": "code",
   "execution_count": 22,
   "id": "414b876c",
   "metadata": {
    "execution": {
     "iopub.execute_input": "2023-02-10T19:09:13.876016Z",
     "iopub.status.busy": "2023-02-10T19:09:13.875251Z",
     "iopub.status.idle": "2023-02-10T19:09:14.008049Z",
     "shell.execute_reply": "2023-02-10T19:09:14.007229Z"
    },
    "papermill": {
     "duration": 0.150905,
     "end_time": "2023-02-10T19:09:14.010446",
     "exception": false,
     "start_time": "2023-02-10T19:09:13.859541",
     "status": "completed"
    },
    "tags": []
   },
   "outputs": [
    {
     "data": {
      "text/plain": [
       "Text(0, 0.5, 'Runs')"
      ]
     },
     "execution_count": 22,
     "metadata": {},
     "output_type": "execute_result"
    },
    {
     "data": {
      "image/png": "[encoded data removed]",
      "text/plain": [
       "<Figure size 432x288 with 1 Axes>"
      ]
     },
     "metadata": {
      "needs_background": "light"
     },
     "output_type": "display_data"
    }
   ],
   "source": [
    "df.groupby(\"Innings\")[\"RUNS\"].sum().plot(kind=\"bar\")\n",
    "plt.ylabel(\"Runs\")"
   ]
  },
  {
   "cell_type": "markdown",
   "id": "62720342",
   "metadata": {
    "papermill": {
     "duration": 0.015522,
     "end_time": "2023-02-10T19:09:14.040849",
     "exception": false,
     "start_time": "2023-02-10T19:09:14.025327",
     "status": "completed"
    },
    "tags": []
   },
   "source": [
    "# Pitches become hard to bat as the time pass"
   ]
  },
  {
   "cell_type": "markdown",
   "id": "42fd9105",
   "metadata": {
    "papermill": {
     "duration": 0.014187,
     "end_time": "2023-02-10T19:09:14.070444",
     "exception": false,
     "start_time": "2023-02-10T19:09:14.056257",
     "status": "completed"
    },
    "tags": []
   },
   "source": [
    "## That's all for the Dataset\n",
    "# Upvote my Work if you find it useful\n",
    "# Thanks"
   ]
  },
  {
   "cell_type": "code",
   "execution_count": null,
   "id": "e8028eb9",
   "metadata": {
    "papermill": {
     "duration": 0.014235,
     "end_time": "2023-02-10T19:09:14.099220",
     "exception": false,
     "start_time": "2023-02-10T19:09:14.084985",
     "status": "completed"
    },
    "tags": []
   },
   "outputs": [],
   "source": []
  }
 ],
 "metadata": {
  "kernelspec": {
   "display_name": "Python 3",
   "language": "python",
   "name": "python3"
  },
  "language_info": {
   "codemirror_mode": {
    "name": "ipython",
    "version": 3
   },
   "file_extension": ".py",
   "mimetype": "text/x-python",
   "name": "python",
   "nbconvert_exporter": "python",
   "pygments_lexer": "ipython3",
   "version": "3.7.12"
  },
  "papermill": {
   "default_parameters": {},
   "duration": 14.401034,
   "end_time": "2023-02-10T19:09:14.835402",
   "environment_variables": {},
   "exception": null,
   "input_path": "__notebook__.ipynb",
   "output_path": "__notebook__.ipynb",
   "parameters": {},
   "start_time": "2023-02-10T19:09:00.434368",
   "version": "2.3.4"
  }
 },
 "nbformat": 4,
 "nbformat_minor": 5
}
